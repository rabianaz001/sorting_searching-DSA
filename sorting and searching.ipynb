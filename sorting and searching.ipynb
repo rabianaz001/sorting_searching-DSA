{
 "cells": [
  {
   "cell_type": "markdown",
   "id": "8d5998b2-e4d6-446c-81e7-d25d296242ac",
   "metadata": {},
   "source": [
    "# Problem 1 :\n",
    "Intersection of Two Sorted Arrays\n",
    "Write a Python program to find the intersection of two sorted arrays.\n",
    "\n",
    "Input:\n",
    "A = [1, 3, 5, 7, 9]\n",
    "B = [2, 4, 5, 8]\n",
    "\n",
    "Output:\n",
    "Intersection: [5]"
   ]
  },
  {
   "cell_type": "code",
   "execution_count": 1,
   "id": "82616e72-46b3-4885-8018-35a281993ccd",
   "metadata": {},
   "outputs": [
    {
     "name": "stdout",
     "output_type": "stream",
     "text": [
      "Intersection: [5]\n"
     ]
    }
   ],
   "source": [
    "def intersection_of_sorted_arrays(A, B):\n",
    "    i, j = 0, 0\n",
    "    intersection = []\n",
    "    \n",
    "    while i < len(A) and j < len(B):\n",
    "        if A[i] < B[j]:\n",
    "            i += 1\n",
    "        elif A[i] > B[j]:\n",
    "            j += 1\n",
    "        else:\n",
    "            # If A[i] == B[j], add to result\n",
    "            if not intersection or intersection[-1] != A[i]:\n",
    "                intersection.append(A[i])\n",
    "            i += 1\n",
    "            j += 1\n",
    "    \n",
    "    return intersection\n",
    "\n",
    "# Example input\n",
    "A = [1, 3, 5, 7, 9]\n",
    "B = [2, 4, 5, 8]\n",
    "\n",
    "# Find intersection\n",
    "result = intersection_of_sorted_arrays(A, B)\n",
    "print(\"Intersection:\", result)\n"
   ]
  },
  {
   "cell_type": "markdown",
   "id": "41f8e135-1aea-4917-8c96-3d9a7f78392d",
   "metadata": {},
   "source": [
    "# Problem 2 :\n",
    "Find the Kth Smallest Element\n",
    "Write a Python function to find the kth smallest element in an unsorted list.\n",
    "\n",
    "Input:\n",
    "[12, 3, 1, 7, 8, 20], k = 3\n",
    "\n",
    "Output:\n",
    "The 3rd smallest element is 7"
   ]
  },
  {
   "cell_type": "code",
   "execution_count": 2,
   "id": "63ac8ed3-a106-45cf-a197-8e665890b7b4",
   "metadata": {},
   "outputs": [
    {
     "name": "stdout",
     "output_type": "stream",
     "text": [
      "The 3rd smallest element is 7\n"
     ]
    }
   ],
   "source": [
    "import random\n",
    "\n",
    "def quickselect(arr, k):\n",
    "    if len(arr) == 1:\n",
    "        return arr[0]\n",
    "\n",
    "    pivot = random.choice(arr)\n",
    "    low = [x for x in arr if x < pivot]\n",
    "    high = [x for x in arr if x > pivot]\n",
    "    pivot_count = arr.count(pivot)\n",
    "    \n",
    "    if k < len(low):\n",
    "        return quickselect(low, k)\n",
    "    elif k < len(low) + pivot_count:\n",
    "        return pivot\n",
    "    else:\n",
    "        return quickselect(high, k - len(low) - pivot_count)\n",
    "\n",
    "# Example input\n",
    "arr = [12, 3, 1, 7, 8, 20]\n",
    "k = 3\n",
    "\n",
    "# Find the Kth smallest element\n",
    "result = quickselect(arr, k - 1)  # k - 1 because list is 0-indexed\n",
    "print(f\"The {k}rd smallest element is {result}\")\n"
   ]
  },
  {
   "cell_type": "markdown",
   "id": "57a5eb31-c980-4482-9d9a-8a16cf99f5d3",
   "metadata": {},
   "source": [
    "# Problem 3 :\n",
    "Binary Search in a Rotated Sorted Array\n",
    "Implement a Python program to perform a binary search on a rotated sorted array.\n",
    "\n",
    "Input:\n",
    "[4, 5, 6, 7, 8, 9, 1, 2, 3], 6\n",
    "\n",
    "Output:\n",
    "Element 6 found at index 2"
   ]
  },
  {
   "cell_type": "code",
   "execution_count": 3,
   "id": "8c46b401-eab1-4ffa-8428-a91b376b900d",
   "metadata": {},
   "outputs": [
    {
     "name": "stdout",
     "output_type": "stream",
     "text": [
      "Element 6 found at index 2\n"
     ]
    }
   ],
   "source": [
    "def binary_search_rotated_array(arr, target):\n",
    "    def find_pivot(arr):\n",
    "        left, right = 0, len(arr) - 1\n",
    "        while left <= right:\n",
    "            mid = (left + right) // 2\n",
    "            if mid < right and arr[mid] > arr[mid + 1]:\n",
    "                return mid + 1\n",
    "            if mid > left and arr[mid] < arr[mid - 1]:\n",
    "                return mid\n",
    "            if arr[mid] > arr[left]:\n",
    "                left = mid + 1\n",
    "            else:\n",
    "                right = mid - 1\n",
    "        return 0\n",
    "\n",
    "    def binary_search(arr, left, right, target):\n",
    "        while left <= right:\n",
    "            mid = (left + right) // 2\n",
    "            if arr[mid] == target:\n",
    "                return mid\n",
    "            elif arr[mid] < target:\n",
    "                left = mid + 1\n",
    "            else:\n",
    "                right = mid - 1\n",
    "        return -1\n",
    "\n",
    "    pivot = find_pivot(arr)\n",
    "    \n",
    "    if arr[pivot] <= target <= arr[-1]:\n",
    "        return binary_search(arr, pivot, len(arr) - 1, target)\n",
    "    else:\n",
    "        return binary_search(arr, 0, pivot - 1, target)\n",
    "\n",
    "# Example input\n",
    "arr = [4, 5, 6, 7, 8, 9, 1, 2, 3]\n",
    "target = 6\n",
    "\n",
    "# Perform binary search\n",
    "index = binary_search_rotated_array(arr, target)\n",
    "if index != -1:\n",
    "    print(f\"Element {target} found at index {index}\")\n",
    "else:\n",
    "    print(f\"Element {target} not found in the array\")\n"
   ]
  },
  {
   "cell_type": "markdown",
   "id": "9eb24f6a-ed3b-4d11-b660-93c45056b2b7",
   "metadata": {},
   "source": [
    "# Problem 4 :\n",
    "Searching in a Matrix\n",
    "Write a Python program that searches for a given element in a 2D matrix and returns its position.\n",
    "\n",
    "Input:\n",
    "Matrix = [\n",
    "[1, 3, 5],\n",
    "[7, 9, 11],\n",
    "[13, 15, 17]\n",
    "]\n",
    "Element = 11\n",
    "\n",
    "Output:\n",
    "Element 11 found at position (1, 2)"
   ]
  },
  {
   "cell_type": "code",
   "execution_count": 4,
   "id": "8989a9e0-57a8-49ff-b887-8d8ef4b94dd9",
   "metadata": {},
   "outputs": [
    {
     "name": "stdout",
     "output_type": "stream",
     "text": [
      "Element 11 found at position (1, 2)\n"
     ]
    }
   ],
   "source": [
    "def search_in_matrix(matrix, target):\n",
    "    if not matrix or not matrix[0]:\n",
    "        return (-1, -1)  # Empty matrix case\n",
    "\n",
    "    rows = len(matrix)\n",
    "    cols = len(matrix[0])\n",
    "    \n",
    "    # Start from the top-right corner\n",
    "    row, col = 0, cols - 1\n",
    "    \n",
    "    while row < rows and col >= 0:\n",
    "        if matrix[row][col] == target:\n",
    "            return (row, col)\n",
    "        elif matrix[row][col] > target:\n",
    "            col -= 1\n",
    "        else:\n",
    "            row += 1\n",
    "            \n",
    "    return (-1, -1)  # Target not found\n",
    "\n",
    "# Example input\n",
    "matrix = [\n",
    "    [1, 3, 5],\n",
    "    [7, 9, 11],\n",
    "    [13, 15, 17]\n",
    "]\n",
    "target = 11\n",
    "\n",
    "# Perform the search\n",
    "position = search_in_matrix(matrix, target)\n",
    "if position != (-1, -1):\n",
    "    print(f\"Element {target} found at position {position}\")\n",
    "else:\n",
    "    print(f\"Element {target} not found in the matrix\")\n"
   ]
  },
  {
   "cell_type": "markdown",
   "id": "83191602-895c-4407-9345-5d074f9aba36",
   "metadata": {},
   "source": [
    "# Problem 5 :\n",
    "Sorting Strings by Length\n",
    "Write a Python program that takes a list of strings and sorts them based on their length.\n",
    "\n",
    "Input:\n",
    "['apple', 'banana', 'kiwi', 'orange', 'grape']\n",
    "\n",
    "Output:\n",
    "['kiwi', 'grape', 'apple', 'banana', 'orange']"
   ]
  },
  {
   "cell_type": "code",
   "execution_count": 5,
   "id": "290be4e2-9944-4fa1-b1e3-fc98d67a7277",
   "metadata": {},
   "outputs": [
    {
     "name": "stdout",
     "output_type": "stream",
     "text": [
      "['kiwi', 'apple', 'grape', 'banana', 'orange']\n"
     ]
    }
   ],
   "source": [
    "def sort_strings_by_length(strings):\n",
    "    # Sort the list of strings by their length\n",
    "    sorted_strings = sorted(strings, key=len)\n",
    "    return sorted_strings\n",
    "\n",
    "# Example input\n",
    "strings = ['apple', 'banana', 'kiwi', 'orange', 'grape']\n",
    "\n",
    "# Sort the strings\n",
    "sorted_strings = sort_strings_by_length(strings)\n",
    "print(sorted_strings)\n"
   ]
  },
  {
   "cell_type": "markdown",
   "id": "83723323-0783-4122-8ba6-fa4e025c3edd",
   "metadata": {},
   "source": [
    "# Problem 6 :\n",
    "Implementing the merge sort ( Will be discussed in the class )"
   ]
  },
  {
   "cell_type": "code",
   "execution_count": 6,
   "id": "04de73ff-ac38-42f8-9df0-ac50a3730eeb",
   "metadata": {},
   "outputs": [
    {
     "name": "stdout",
     "output_type": "stream",
     "text": [
      "Sorted array: [3, 9, 10, 27, 38, 43, 82]\n"
     ]
    }
   ],
   "source": [
    "def merge_sort(arr):\n",
    "    if len(arr) <= 1:\n",
    "        return arr\n",
    "    \n",
    "    def merge(left, right):\n",
    "        sorted_array = []\n",
    "        left_index, right_index = 0, 0\n",
    "        \n",
    "        # Merge the two sorted arrays\n",
    "        while left_index < len(left) and right_index < len(right):\n",
    "            if left[left_index] < right[right_index]:\n",
    "                sorted_array.append(left[left_index])\n",
    "                left_index += 1\n",
    "            else:\n",
    "                sorted_array.append(right[right_index])\n",
    "                right_index += 1\n",
    "        \n",
    "        # Add the remaining elements\n",
    "        sorted_array.extend(left[left_index:])\n",
    "        sorted_array.extend(right[right_index:])\n",
    "        \n",
    "        return sorted_array\n",
    "\n",
    "    # Divide the array into two halves\n",
    "    mid = len(arr) // 2\n",
    "    left_half = merge_sort(arr[:mid])\n",
    "    right_half = merge_sort(arr[mid:])\n",
    "    \n",
    "    # Combine the sorted halves\n",
    "    return merge(left_half, right_half)\n",
    "\n",
    "# Example input\n",
    "arr = [38, 27, 43, 3, 9, 82, 10]\n",
    "\n",
    "# Perform merge sort\n",
    "sorted_arr = merge_sort(arr)\n",
    "print(\"Sorted array:\", sorted_arr)\n"
   ]
  },
  {
   "cell_type": "markdown",
   "id": "0f9c4b69-04d4-4e44-8948-bf74cac8e823",
   "metadata": {},
   "source": [
    "# Problem 7 :\n",
    "Implementing the quick sort ( will be discussed in the class )"
   ]
  },
  {
   "cell_type": "code",
   "execution_count": 8,
   "id": "f0f2d4d1-c76a-4804-b992-4df3b825b3bb",
   "metadata": {},
   "outputs": [
    {
     "name": "stdout",
     "output_type": "stream",
     "text": [
      "Sorted array: [1, 1, 2, 3, 6, 8, 10]\n"
     ]
    }
   ],
   "source": [
    "def quick_sort(arr):\n",
    "    if len(arr) <= 1:\n",
    "        return arr\n",
    "    else:\n",
    "        pivot = arr[len(arr) // 2]  # Choose the pivot\n",
    "        left = [x for x in arr if x < pivot]  # Elements less than pivot\n",
    "        middle = [x for x in arr if x == pivot]  # Elements equal to pivot\n",
    "        right = [x for x in arr if x > pivot]  # Elements greater than pivot\n",
    "        return quick_sort(left) + middle + quick_sort(right)\n",
    "\n",
    "# Example input\n",
    "arr = [3, 6, 8, 10, 1, 2, 1]\n",
    "\n",
    "# Perform quick sort\n",
    "sorted_arr = quick_sort(arr)\n",
    "print(\"Sorted array:\", sorted_arr)\n"
   ]
  },
  {
   "cell_type": "markdown",
   "id": "3607c56c-4252-48eb-8526-e70fd2ab7745",
   "metadata": {},
   "source": [
    "# Problem 8 :\n",
    "Implementing the count sort ( will be discussed in the class )"
   ]
  },
  {
   "cell_type": "code",
   "execution_count": 7,
   "id": "e7ba7b4c-1ff3-4b34-9c81-d90c7507371d",
   "metadata": {},
   "outputs": [
    {
     "name": "stdout",
     "output_type": "stream",
     "text": [
      "Sorted array: [1, 2, 2, 3, 3, 4, 8]\n"
     ]
    }
   ],
   "source": [
    "def counting_sort(arr):\n",
    "    if not arr:\n",
    "        return arr\n",
    "    \n",
    "    # Step 1: Find the range of the input array\n",
    "    max_val = max(arr)\n",
    "    min_val = min(arr)\n",
    "    range_of_elements = max_val - min_val + 1\n",
    "    \n",
    "    # Step 2: Create a count array and initialize with 0s\n",
    "    count = [0] * range_of_elements\n",
    "    \n",
    "    # Step 3: Count occurrences of each value\n",
    "    for num in arr:\n",
    "        count[num - min_val] += 1\n",
    "    \n",
    "    # Step 4: Modify count array to store cumulative counts\n",
    "    for i in range(1, len(count)):\n",
    "        count[i] += count[i - 1]\n",
    "    \n",
    "    # Step 5: Build the output array\n",
    "    output = [0] * len(arr)\n",
    "    for num in reversed(arr):\n",
    "        output[count[num - min_val] - 1] = num\n",
    "        count[num - min_val] -= 1\n",
    "    \n",
    "    return output\n",
    "\n",
    "# Example input\n",
    "arr = [4, 2, 2, 8, 3, 3, 1]\n",
    "\n",
    "# Perform counting sort\n",
    "sorted_arr = counting_sort(arr)\n",
    "print(\"Sorted array:\", sorted_arr)\n"
   ]
  },
  {
   "cell_type": "markdown",
   "id": "b7327c37-734d-4c88-921a-851b74c91e30",
   "metadata": {},
   "source": [
    "# Problem 9 :\n",
    "Implement a Python function to find a peak element in an array. A peak element is an element that is greater\n",
    "than or equal to its neighbors.\n",
    "\n",
    "Input:\n",
    "[1, 3, 20, 4, 1, 0]\n",
    "\n",
    "Output:\n",
    "Peak element is 20"
   ]
  },
  {
   "cell_type": "code",
   "execution_count": 9,
   "id": "d155cbbe-e43b-4be1-99c6-4e9cf7034ebe",
   "metadata": {},
   "outputs": [
    {
     "name": "stdout",
     "output_type": "stream",
     "text": [
      "Peak element is 20\n"
     ]
    }
   ],
   "source": [
    "def find_peak_linear(arr):\n",
    "    n = len(arr)\n",
    "    \n",
    "    # Check if the array is empty\n",
    "    if n == 0:\n",
    "        return None\n",
    "    \n",
    "    # Check first and last elements\n",
    "    if n == 1:\n",
    "        return arr[0]\n",
    "    if arr[0] >= arr[1]:\n",
    "        return arr[0]\n",
    "    if arr[n - 1] >= arr[n - 2]:\n",
    "        return arr[n - 1]\n",
    "    \n",
    "    # Check for peak in the middle elements\n",
    "    for i in range(1, n - 1):\n",
    "        if arr[i] >= arr[i - 1] and arr[i] >= arr[i + 1]:\n",
    "            return arr[i]\n",
    "    \n",
    "    return None\n",
    "\n",
    "# Example input\n",
    "arr = [1, 3, 20, 4, 1, 0]\n",
    "\n",
    "# Find the peak element\n",
    "peak = find_peak_linear(arr)\n",
    "print(f\"Peak element is {peak}\")\n"
   ]
  },
  {
   "cell_type": "markdown",
   "id": "eaf5667d-0f5e-4428-9a9a-7b76a8d9613f",
   "metadata": {},
   "source": [
    "# Problem 10 :\n",
    "Search in a Nearly Sorted Array\n",
    "Implement a Python program to perform a binary search in a nearly sorted array. In a nearly sorted array, each\n",
    "element is at most k positions away from its sorted position.\n",
    "\n",
    "Input:\n",
    "[2, 1, 3, 4, 6, 5, 7], k = 1\n",
    "\n",
    "Output:\n",
    "Element 5 found at index 4"
   ]
  },
  {
   "cell_type": "code",
   "execution_count": 13,
   "id": "f75ac7f3-2c86-457f-9032-020bbebdb587",
   "metadata": {},
   "outputs": [
    {
     "name": "stdout",
     "output_type": "stream",
     "text": [
      "Element 5 found at index 5\n"
     ]
    }
   ],
   "source": [
    "def binary_search_nearly_sorted(arr, k, target):\n",
    "    n = len(arr)\n",
    "    \n",
    "    def search(low, high):\n",
    "        if low > high:\n",
    "            return -1\n",
    "        \n",
    "        mid = (low + high) // 2\n",
    "        \n",
    "        # Check if the target is at the middle position\n",
    "        if arr[mid] == target:\n",
    "            return mid\n",
    "        \n",
    "        # Define the range of elements to check\n",
    "        start = max(low, mid - k)\n",
    "        end = min(high, mid + k)\n",
    "        \n",
    "        # Search within the defined range\n",
    "        for i in range(start, end + 1):\n",
    "            if i != mid and arr[i] == target:\n",
    "                return i\n",
    "        \n",
    "        # Continue binary search in the left or right half\n",
    "        if target < arr[mid]:\n",
    "            return search(low, mid - 1)\n",
    "        else:\n",
    "            return search(mid + 1, high)\n",
    "    \n",
    "    # Call the search function with the full range of the array\n",
    "    return search(0, n - 1)\n",
    "\n",
    "# Example input\n",
    "arr = [2, 1, 3, 4, 6, 5, 7]\n",
    "k = 1\n",
    "target = 5\n",
    "\n",
    "# Perform the search\n",
    "index = binary_search_nearly_sorted(arr, k, target)\n",
    "if index != -1:\n",
    "    print(f\"Element {target} found at index {index}\")\n",
    "else:\n",
    "    print(f\"Element {target} not found\")\n"
   ]
  },
  {
   "cell_type": "code",
   "execution_count": null,
   "id": "c3385c53-b2e8-46de-9cc5-9f4ef7f5d7cc",
   "metadata": {},
   "outputs": [],
   "source": []
  }
 ],
 "metadata": {
  "kernelspec": {
   "display_name": "Python 3 (ipykernel)",
   "language": "python",
   "name": "python3"
  },
  "language_info": {
   "codemirror_mode": {
    "name": "ipython",
    "version": 3
   },
   "file_extension": ".py",
   "mimetype": "text/x-python",
   "name": "python",
   "nbconvert_exporter": "python",
   "pygments_lexer": "ipython3",
   "version": "3.10.8"
  }
 },
 "nbformat": 4,
 "nbformat_minor": 5
}
